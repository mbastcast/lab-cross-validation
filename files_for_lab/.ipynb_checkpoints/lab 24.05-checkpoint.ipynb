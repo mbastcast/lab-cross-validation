{
 "cells": [
  {
   "cell_type": "code",
   "execution_count": 3,
   "id": "3e3f73c2-dbbb-4ac1-8c91-1187cc0bb6f2",
   "metadata": {},
   "outputs": [],
   "source": [
    "import pandas as pd\n",
    "import numpy as np\n",
    "import warnings\n",
    "import statsmodels.api as sm\n",
    "import seaborn as sns\n",
    "\n",
    "from sklearn.linear_model import LinearRegression\n",
    "from sklearn.metrics import mean_absolute_error\n",
    "from sklearn.model_selection import train_test_split\n",
    "from sklearn.linear_model import LogisticRegression\n",
    "from sklearn.metrics import confusion_matrix\n",
    "from sklearn import metrics\n",
    "from imblearn.over_sampling import SMOTE\n",
    "from imblearn.under_sampling import TomekLinks\n",
    "from sklearn.preprocessing import StandardScaler\n",
    "from sklearn.datasets import load_boston\n",
    "from sklearn.tree import DecisionTreeRegressor\n",
    "from sklearn.ensemble import RandomForestRegressor\n",
    "from sklearn.model_selection import train_test_split\n",
    "from sklearn.metrics import mean_squared_error\n",
    "\n",
    "\n",
    "pd.set_option('display.max_columns', None)\n",
    "warnings.filterwarnings('ignore')"
   ]
  },
  {
   "cell_type": "code",
   "execution_count": 10,
   "id": "fd867877-834d-4540-b59d-db34b12373b3",
   "metadata": {},
   "outputs": [
    {
     "data": {
      "text/html": [
       "<div>\n",
       "<style scoped>\n",
       "    .dataframe tbody tr th:only-of-type {\n",
       "        vertical-align: middle;\n",
       "    }\n",
       "\n",
       "    .dataframe tbody tr th {\n",
       "        vertical-align: top;\n",
       "    }\n",
       "\n",
       "    .dataframe thead th {\n",
       "        text-align: right;\n",
       "    }\n",
       "</style>\n",
       "<table border=\"1\" class=\"dataframe\">\n",
       "  <thead>\n",
       "    <tr style=\"text-align: right;\">\n",
       "      <th></th>\n",
       "      <th>gender</th>\n",
       "      <th>SeniorCitizen</th>\n",
       "      <th>Partner</th>\n",
       "      <th>Dependents</th>\n",
       "      <th>tenure</th>\n",
       "      <th>PhoneService</th>\n",
       "      <th>OnlineSecurity</th>\n",
       "      <th>OnlineBackup</th>\n",
       "      <th>DeviceProtection</th>\n",
       "      <th>TechSupport</th>\n",
       "      <th>StreamingTV</th>\n",
       "      <th>StreamingMovies</th>\n",
       "      <th>Contract</th>\n",
       "      <th>MonthlyCharges</th>\n",
       "      <th>TotalCharges</th>\n",
       "      <th>Churn</th>\n",
       "      <th>totalcharges</th>\n",
       "    </tr>\n",
       "  </thead>\n",
       "  <tbody>\n",
       "    <tr>\n",
       "      <th>0</th>\n",
       "      <td>Female</td>\n",
       "      <td>0</td>\n",
       "      <td>Yes</td>\n",
       "      <td>No</td>\n",
       "      <td>1</td>\n",
       "      <td>No</td>\n",
       "      <td>No</td>\n",
       "      <td>Yes</td>\n",
       "      <td>No</td>\n",
       "      <td>No</td>\n",
       "      <td>No</td>\n",
       "      <td>No</td>\n",
       "      <td>Month-to-month</td>\n",
       "      <td>29.85</td>\n",
       "      <td>29.85</td>\n",
       "      <td>No</td>\n",
       "      <td>29.85</td>\n",
       "    </tr>\n",
       "    <tr>\n",
       "      <th>1</th>\n",
       "      <td>Male</td>\n",
       "      <td>0</td>\n",
       "      <td>No</td>\n",
       "      <td>No</td>\n",
       "      <td>34</td>\n",
       "      <td>Yes</td>\n",
       "      <td>Yes</td>\n",
       "      <td>No</td>\n",
       "      <td>Yes</td>\n",
       "      <td>No</td>\n",
       "      <td>No</td>\n",
       "      <td>No</td>\n",
       "      <td>One year</td>\n",
       "      <td>56.95</td>\n",
       "      <td>1889.5</td>\n",
       "      <td>No</td>\n",
       "      <td>1889.50</td>\n",
       "    </tr>\n",
       "    <tr>\n",
       "      <th>2</th>\n",
       "      <td>Male</td>\n",
       "      <td>0</td>\n",
       "      <td>No</td>\n",
       "      <td>No</td>\n",
       "      <td>2</td>\n",
       "      <td>Yes</td>\n",
       "      <td>Yes</td>\n",
       "      <td>Yes</td>\n",
       "      <td>No</td>\n",
       "      <td>No</td>\n",
       "      <td>No</td>\n",
       "      <td>No</td>\n",
       "      <td>Month-to-month</td>\n",
       "      <td>53.85</td>\n",
       "      <td>108.15</td>\n",
       "      <td>Yes</td>\n",
       "      <td>108.15</td>\n",
       "    </tr>\n",
       "    <tr>\n",
       "      <th>3</th>\n",
       "      <td>Male</td>\n",
       "      <td>0</td>\n",
       "      <td>No</td>\n",
       "      <td>No</td>\n",
       "      <td>45</td>\n",
       "      <td>No</td>\n",
       "      <td>Yes</td>\n",
       "      <td>No</td>\n",
       "      <td>Yes</td>\n",
       "      <td>Yes</td>\n",
       "      <td>No</td>\n",
       "      <td>No</td>\n",
       "      <td>One year</td>\n",
       "      <td>42.30</td>\n",
       "      <td>1840.75</td>\n",
       "      <td>No</td>\n",
       "      <td>1840.75</td>\n",
       "    </tr>\n",
       "    <tr>\n",
       "      <th>4</th>\n",
       "      <td>Female</td>\n",
       "      <td>0</td>\n",
       "      <td>No</td>\n",
       "      <td>No</td>\n",
       "      <td>2</td>\n",
       "      <td>Yes</td>\n",
       "      <td>No</td>\n",
       "      <td>No</td>\n",
       "      <td>No</td>\n",
       "      <td>No</td>\n",
       "      <td>No</td>\n",
       "      <td>No</td>\n",
       "      <td>Month-to-month</td>\n",
       "      <td>70.70</td>\n",
       "      <td>151.65</td>\n",
       "      <td>Yes</td>\n",
       "      <td>151.65</td>\n",
       "    </tr>\n",
       "  </tbody>\n",
       "</table>\n",
       "</div>"
      ],
      "text/plain": [
       "   gender  SeniorCitizen Partner Dependents  tenure PhoneService  \\\n",
       "0  Female              0     Yes         No       1           No   \n",
       "1    Male              0      No         No      34          Yes   \n",
       "2    Male              0      No         No       2          Yes   \n",
       "3    Male              0      No         No      45           No   \n",
       "4  Female              0      No         No       2          Yes   \n",
       "\n",
       "  OnlineSecurity OnlineBackup DeviceProtection TechSupport StreamingTV  \\\n",
       "0             No          Yes               No          No          No   \n",
       "1            Yes           No              Yes          No          No   \n",
       "2            Yes          Yes               No          No          No   \n",
       "3            Yes           No              Yes         Yes          No   \n",
       "4             No           No               No          No          No   \n",
       "\n",
       "  StreamingMovies        Contract  MonthlyCharges TotalCharges Churn  \\\n",
       "0              No  Month-to-month           29.85        29.85    No   \n",
       "1              No        One year           56.95       1889.5    No   \n",
       "2              No  Month-to-month           53.85       108.15   Yes   \n",
       "3              No        One year           42.30      1840.75    No   \n",
       "4              No  Month-to-month           70.70       151.65   Yes   \n",
       "\n",
       "   totalcharges  \n",
       "0         29.85  \n",
       "1       1889.50  \n",
       "2        108.15  \n",
       "3       1840.75  \n",
       "4        151.65  "
      ]
     },
     "execution_count": 10,
     "metadata": {},
     "output_type": "execute_result"
    }
   ],
   "source": [
    "churndata = pd.read_csv('Downloads\\churndata.csv')\n",
    "churndata.head()"
   ]
  },
  {
   "cell_type": "markdown",
   "id": "533411fa-c2dd-49d3-8222-5b85952ea680",
   "metadata": {},
   "source": [
    "Apply SMOTE for upsampling the data\n",
    "\n",
    "Use logistic regression to fit the model and compute the accuracy of the model.\n",
    "Use decision tree classifier to fit the model and compute the accuracy of the model.\n",
    "Compare the accuracies of the two models."
   ]
  },
  {
   "cell_type": "code",
   "execution_count": 14,
   "id": "6ac1b78e-a795-4f8d-9b2e-0ec1708ab595",
   "metadata": {},
   "outputs": [
    {
     "data": {
      "text/plain": [
       "gender               object\n",
       "SeniorCitizen         int64\n",
       "Partner              object\n",
       "Dependents           object\n",
       "tenure                int64\n",
       "PhoneService         object\n",
       "OnlineSecurity       object\n",
       "OnlineBackup         object\n",
       "DeviceProtection     object\n",
       "TechSupport          object\n",
       "StreamingTV          object\n",
       "StreamingMovies      object\n",
       "Contract             object\n",
       "MonthlyCharges      float64\n",
       "TotalCharges         object\n",
       "Churn                object\n",
       "totalcharges        float64\n",
       "dtype: object"
      ]
     },
     "execution_count": 14,
     "metadata": {},
     "output_type": "execute_result"
    }
   ],
   "source": [
    "churndata.dtypes\n"
   ]
  },
  {
   "cell_type": "code",
   "execution_count": 15,
   "id": "8e10a79c-84bd-4d8e-b87f-244c33e37a44",
   "metadata": {},
   "outputs": [],
   "source": [
    "y = churndata['Churn']\n",
    "# The Features\n",
    "numericals = ['tenure', 'SeniorCitizen', 'MonthlyCharges', 'totalcharges']\n",
    "numericals = churndata[numericals]"
   ]
  },
  {
   "cell_type": "code",
   "execution_count": 16,
   "id": "315749ff-b3bc-475b-ae55-1f85854baa59",
   "metadata": {},
   "outputs": [
    {
     "data": {
      "text/plain": [
       "(7043, 4)"
      ]
     },
     "execution_count": 16,
     "metadata": {},
     "output_type": "execute_result"
    }
   ],
   "source": [
    "transformer = StandardScaler().fit(numericals)\n",
    "X_stan = transformer.transform(numericals)\n",
    "X_stan.shape\n"
   ]
  },
  {
   "cell_type": "code",
   "execution_count": 19,
   "id": "b7f53216-dbc5-4192-8a1c-e9e7cb94d21a",
   "metadata": {},
   "outputs": [
    {
     "data": {
      "text/plain": [
       "No     5174\n",
       "Yes    1869\n",
       "Name: Churn, dtype: int64"
      ]
     },
     "execution_count": 19,
     "metadata": {},
     "output_type": "execute_result"
    }
   ],
   "source": [
    "y.value_counts()\n"
   ]
  },
  {
   "cell_type": "code",
   "execution_count": 20,
   "id": "516d0634-ac16-4355-869d-62ff2abdb6d9",
   "metadata": {},
   "outputs": [
    {
     "data": {
      "text/plain": [
       "No     5174\n",
       "Yes    5174\n",
       "Name: Churn, dtype: int64"
      ]
     },
     "execution_count": 20,
     "metadata": {},
     "output_type": "execute_result"
    }
   ],
   "source": [
    "smote = SMOTE()\n",
    "X_sm, y_sm = smote.fit_resample(X_stan, y)\n",
    "y_sm.value_counts()"
   ]
  },
  {
   "cell_type": "code",
   "execution_count": null,
   "id": "2b27c088-6c17-4131-9660-2be11465afc5",
   "metadata": {},
   "outputs": [],
   "source": [
    "#######FIRST LOGISTIC REGRESSION"
   ]
  },
  {
   "cell_type": "code",
   "execution_count": 22,
   "id": "784d3de0-89a3-41f0-a524-d02d06bf49c6",
   "metadata": {},
   "outputs": [],
   "source": [
    "X_train, X_test, y_train, y_test = train_test_split(X_sm, y_sm, test_size=0.2, random_state=42)\n",
    "model = LogisticRegression()\n",
    "model.fit(X_train,y_train)\n",
    "preds = model.predict(X_test)"
   ]
  },
  {
   "cell_type": "code",
   "execution_count": 23,
   "id": "a3840b83-9fbb-4eef-8c54-d9f4aa6641a1",
   "metadata": {},
   "outputs": [],
   "source": [
    "from sklearn.metrics import classification_report\n"
   ]
  },
  {
   "cell_type": "code",
   "execution_count": 27,
   "id": "b57140af-590b-4ad8-bd6a-6179564f8950",
   "metadata": {},
   "outputs": [
    {
     "name": "stdout",
     "output_type": "stream",
     "text": [
      "              precision    recall  f1-score   support\n",
      "\n",
      "          No       0.75      0.74      0.74      1021\n",
      "         Yes       0.75      0.76      0.75      1049\n",
      "\n",
      "    accuracy                           0.75      2070\n",
      "   macro avg       0.75      0.75      0.75      2070\n",
      "weighted avg       0.75      0.75      0.75      2070\n",
      "\n"
     ]
    }
   ],
   "source": [
    "print(classification_report(y_test, preds))"
   ]
  },
  {
   "cell_type": "code",
   "execution_count": 28,
   "id": "5d3cd6be-4ba0-46da-8f22-f971df597126",
   "metadata": {},
   "outputs": [],
   "source": [
    "###### NOW DECISION TREE CLASSIFIER"
   ]
  },
  {
   "cell_type": "code",
   "execution_count": 30,
   "id": "361cf734-29b3-4131-a53f-3c5e0e419b2b",
   "metadata": {},
   "outputs": [],
   "source": [
    "from sklearn.tree import DecisionTreeClassifier\n"
   ]
  },
  {
   "cell_type": "code",
   "execution_count": 31,
   "id": "c536462d-313d-48ef-b083-226921ba4b6a",
   "metadata": {},
   "outputs": [
    {
     "name": "stdout",
     "output_type": "stream",
     "text": [
      "              precision    recall  f1-score   support\n",
      "\n",
      "          No       0.77      0.77      0.77      1052\n",
      "         Yes       0.76      0.77      0.76      1018\n",
      "\n",
      "    accuracy                           0.77      2070\n",
      "   macro avg       0.77      0.77      0.77      2070\n",
      "weighted avg       0.77      0.77      0.77      2070\n",
      "\n"
     ]
    }
   ],
   "source": [
    "X_train, X_test, y_train, y_test = train_test_split(X_sm, y_sm, test_size=0.2, random_state=100)\n",
    "model = DecisionTreeClassifier()\n",
    "model.fit(X_train, y_train)\n",
    "preds = model.predict(X_test)\n",
    "print(classification_report(y_test, preds))\n",
    "score_sm_dec = round(model.score(X_test, y_test),2)"
   ]
  },
  {
   "cell_type": "markdown",
   "id": "dcaef8b0-a1e4-4875-9353-9ab58af7b23e",
   "metadata": {},
   "source": [
    "ACURACCY FOR LOGISTIC REGRESSION IS HIGHER THAN DECISIONTREECLASSIFIER BUT PRECISION IS HIGHER ON DECISION TREE CLASSIFIER\n"
   ]
  },
  {
   "cell_type": "markdown",
   "id": "872b7652-65a6-4981-aa8a-ac260b204583",
   "metadata": {},
   "source": [
    "Apply TomekLinks for downsampling\n",
    "\n",
    "It is important to remember that it does not make the two classes equal but only removes the points from the majority class that are close to other points in minority class.\n",
    "Use logistic regression to fit the model and compute the accuracy of the model.\n",
    "Use decision tree classifier to fit the model and compute the accuracy of the model.\n",
    "Compare the accuracies of the two models.\n",
    "You can also apply this algorithm one more time and check the how the imbalance in the two classes changed from the last time."
   ]
  },
  {
   "cell_type": "code",
   "execution_count": 40,
   "id": "8a31c283-394b-4dac-8118-f17e09123a20",
   "metadata": {},
   "outputs": [
    {
     "data": {
      "text/plain": [
       "No     4665\n",
       "Yes    1869\n",
       "Name: Churn, dtype: int64"
      ]
     },
     "execution_count": 40,
     "metadata": {},
     "output_type": "execute_result"
    }
   ],
   "source": [
    "tomek = TomekLinks()\n",
    "X_tl, y_tl = tomek.fit_resample(X_stan, y)\n",
    "y_tl.value_counts()"
   ]
  },
  {
   "cell_type": "code",
   "execution_count": null,
   "id": "dfe1c842-8835-48b1-ac71-c5024aec5469",
   "metadata": {},
   "outputs": [],
   "source": [
    "####using logistic regression"
   ]
  },
  {
   "cell_type": "code",
   "execution_count": 42,
   "id": "fd77236f-f194-4895-aca4-796e5acb6ad4",
   "metadata": {
    "tags": []
   },
   "outputs": [
    {
     "name": "stdout",
     "output_type": "stream",
     "text": [
      "              precision    recall  f1-score   support\n",
      "\n",
      "          No       0.83      0.90      0.86       947\n",
      "         Yes       0.66      0.51      0.58       360\n",
      "\n",
      "    accuracy                           0.79      1307\n",
      "   macro avg       0.75      0.71      0.72      1307\n",
      "weighted avg       0.78      0.79      0.78      1307\n",
      "\n"
     ]
    }
   ],
   "source": [
    "X_train, X_test, y_train, y_test = train_test_split(X_tl, y_tl, test_size=0.2, random_state=100)\n",
    "model = LogisticRegression()\n",
    "model.fit(X_train,y_train)\n",
    "preds = model.predict(X_test)\n",
    "print(classification_report(y_test, preds))"
   ]
  },
  {
   "cell_type": "code",
   "execution_count": 43,
   "id": "16d2c45a-2621-40e4-8d8b-3306ed6ecf87",
   "metadata": {},
   "outputs": [],
   "source": [
    "#decision tree"
   ]
  },
  {
   "cell_type": "code",
   "execution_count": 44,
   "id": "6facdef6-5912-4518-9bda-ac711f58fa22",
   "metadata": {},
   "outputs": [
    {
     "name": "stdout",
     "output_type": "stream",
     "text": [
      "              precision    recall  f1-score   support\n",
      "\n",
      "          No       0.77      0.76      0.77      1052\n",
      "         Yes       0.76      0.77      0.76      1018\n",
      "\n",
      "    accuracy                           0.76      2070\n",
      "   macro avg       0.76      0.76      0.76      2070\n",
      "weighted avg       0.76      0.76      0.76      2070\n",
      "\n"
     ]
    }
   ],
   "source": [
    "X_train, X_test, y_train, y_test = train_test_split(X_sm, y_sm, test_size=0.2, random_state=100)\n",
    "model = DecisionTreeClassifier()\n",
    "model.fit(X_train, y_train)\n",
    "preds = model.predict(X_test)\n",
    "print(classification_report(y_test, preds))\n",
    "score_sm_dec = round(model.score(X_test, y_test),2)"
   ]
  },
  {
   "cell_type": "markdown",
   "id": "8b2b4571-258a-4ff0-9b15-718a9231c9fb",
   "metadata": {},
   "source": [
    "logistic regression performs better in both acuracy and precision\n"
   ]
  },
  {
   "cell_type": "code",
   "execution_count": 45,
   "id": "36de7133-c860-4c58-bd45-4f367ca531a7",
   "metadata": {},
   "outputs": [
    {
     "data": {
      "text/plain": [
       "No     4665\n",
       "Yes    1869\n",
       "Name: Churn, dtype: int64"
      ]
     },
     "execution_count": 45,
     "metadata": {},
     "output_type": "execute_result"
    }
   ],
   "source": [
    "tomek = TomekLinks()\n",
    "X_tl, y_tl = tomek.fit_resample(X_stan, y)\n",
    "y_tl.value_counts()"
   ]
  },
  {
   "cell_type": "code",
   "execution_count": null,
   "id": "8d8144d6-e690-4c4a-9222-d760b71e56dd",
   "metadata": {},
   "outputs": [],
   "source": []
  }
 ],
 "metadata": {
  "kernelspec": {
   "display_name": "Python 3 (ipykernel)",
   "language": "python",
   "name": "python3"
  },
  "language_info": {
   "codemirror_mode": {
    "name": "ipython",
    "version": 3
   },
   "file_extension": ".py",
   "mimetype": "text/x-python",
   "name": "python",
   "nbconvert_exporter": "python",
   "pygments_lexer": "ipython3",
   "version": "3.9.7"
  }
 },
 "nbformat": 4,
 "nbformat_minor": 5
}
